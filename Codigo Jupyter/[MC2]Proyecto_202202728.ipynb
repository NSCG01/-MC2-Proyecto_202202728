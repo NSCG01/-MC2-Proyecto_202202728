{
 "cells": [
  {
   "cell_type": "code",
   "execution_count": 2,
   "id": "0e812872",
   "metadata": {},
   "outputs": [
    {
     "name": "stdout",
     "output_type": "stream",
     "text": [
      "Resultado 1: 14.0\n",
      "Resultado 2: 14.0\n",
      "Resultado 3: 17.0\n"
     ]
    }
   ],
   "source": [
    "def evaluar_notacion_polaca(expresion):\n",
    "    pila = []\n",
    "    operadores = set(['+', '-', '*', '/'])\n",
    "    \n",
    "    for token in expresion.split():\n",
    "        if token not in operadores:\n",
    "            pila.append(float(token))\n",
    "        else:\n",
    "            b = pila.pop()\n",
    "            a = pila.pop()\n",
    "            if token == '+':\n",
    "                resultado = a + b\n",
    "            elif token == '-':\n",
    "                resultado = a - b\n",
    "            elif token == '*':\n",
    "                resultado = a * b\n",
    "            elif token == '/':\n",
    "                if b == 0:\n",
    "                    raise ValueError(\"División por cero\")\n",
    "                resultado = a / b\n",
    "            pila.append(resultado)\n",
    "    \n",
    "    if len(pila) == 1:\n",
    "        return pila[0]\n",
    "    else:\n",
    "        raise ValueError(\"Expresión no válida\")\n",
    "\n",
    "expresion1 = \"3 4 + 2 *\"\n",
    "expresion2 = \"5 1 2 + 4 * + 3 -\"\n",
    "expresion3 = \"2 3 * 5 4 * + 9 -\"\n",
    "\n",
    "resultado1 = evaluar_notacion_polaca(expresion1)\n",
    "resultado2 = evaluar_notacion_polaca(expresion2)\n",
    "resultado3 = evaluar_notacion_polaca(expresion3)\n",
    "\n",
    "print(f\"Resultado 1: {resultado1}\")\n",
    "print(f\"Resultado 2: {resultado2}\")\n",
    "print(f\"Resultado 3: {resultado3}\")"
   ]
  },
  {
   "cell_type": "code",
   "execution_count": 4,
   "id": "0534fc0b",
   "metadata": {},
   "outputs": [
    {
     "name": "stdout",
     "output_type": "stream",
     "text": [
      "Resultado 1: 45.0\n",
      "Resultado 2: 32.5\n",
      "Resultado 3: -5.0\n"
     ]
    }
   ],
   "source": [
    "def evaluar_notacion_polaca2(expresion):\n",
    "    pila = []\n",
    "    operadores = set(['+', '-', '*', '/'])\n",
    "    \n",
    "    for token in expresion.split():\n",
    "        if token not in operadores:\n",
    "            pila.append(float(token))\n",
    "        else:\n",
    "            b = pila.pop()\n",
    "            a = pila.pop()\n",
    "            if token == '+':\n",
    "                resultado = a + b\n",
    "            elif token == '-':\n",
    "                resultado = a - b\n",
    "            elif token == '*':\n",
    "                resultado = a * b\n",
    "            elif token == '/':\n",
    "                if b == 0:\n",
    "                    raise ValueError(\"División por cero\")\n",
    "                resultado = a / b\n",
    "            pila.append(resultado)\n",
    "    \n",
    "    if len(pila) == 1:\n",
    "        return pila[0]\n",
    "    else:\n",
    "        raise ValueError(\"Expresión no válida\")\n",
    "\n",
    "expresion1 = \"4 5 + 2 3 + *\"\n",
    "expresion2 = \"6 7 + 2 3 + * 2 /\"\n",
    "expresion3 = \"8 2 / 4 6 - * 3 +\"\n",
    "\n",
    "resultado1 = evaluar_notacion_polaca2(expresion1)\n",
    "resultado2 = evaluar_notacion_polaca2(expresion2)\n",
    "resultado3 = evaluar_notacion_polaca2(expresion3)\n",
    "\n",
    "print(f\"Resultado 1: {resultado1}\")\n",
    "print(f\"Resultado 2: {resultado2}\")\n",
    "print(f\"Resultado 3: {resultado3}\")"
   ]
  },
  {
   "cell_type": "code",
   "execution_count": 7,
   "id": "6a5d6418",
   "metadata": {},
   "outputs": [
    {
     "name": "stdout",
     "output_type": "stream",
     "text": [
      "Resultado 1: -7.0\n",
      "Resultado 2: 3.142857142857143\n",
      "Resultado 3: -18.0\n"
     ]
    }
   ],
   "source": [
    "def evaluar_notacion_polaca3(expresion):\n",
    "    pila = []\n",
    "    operadores = set(['+', '-', '*', '/'])\n",
    "    \n",
    "    for token in expresion.split():\n",
    "        if token not in operadores:\n",
    "            pila.append(float(token))\n",
    "        else:\n",
    "            b = pila.pop()\n",
    "            a = pila.pop()\n",
    "            if token == '+':\n",
    "                resultado = a + b\n",
    "            elif token == '-':\n",
    "                resultado = a - b\n",
    "            elif token == '*':\n",
    "                resultado = a * b\n",
    "            elif token == '/':\n",
    "                if b == 0:\n",
    "                    raise ValueError(\"División por cero\")\n",
    "                resultado = a / b\n",
    "            pila.append(resultado)\n",
    "    \n",
    "    if len(pila) == 1:\n",
    "        return pila[0]\n",
    "    else:\n",
    "        raise ValueError(\"Expresión no válida\")\n",
    "\n",
    "\n",
    "expresion1 = \"3 4 + 5 6 - *\"\n",
    "expresion2 = \"2 7 / 3 8 + *\"\n",
    "expresion3 = \"9 2 * 4 5 - /\"\n",
    "\n",
    "resultado1 = evaluar_notacion_polaca3(expresion1)\n",
    "resultado2 = evaluar_notacion_polaca3(expresion2)\n",
    "resultado3 = evaluar_notacion_polaca3(expresion3)\n",
    "\n",
    "print(f\"Resultado 1: {resultado1}\")\n",
    "print(f\"Resultado 2: {resultado2}\")\n",
    "print(f\"Resultado 3: {resultado3}\")"
   ]
  },
  {
   "cell_type": "code",
   "execution_count": 9,
   "id": "b0f3ba09",
   "metadata": {},
   "outputs": [
    {
     "name": "stdout",
     "output_type": "stream",
     "text": [
      "Requirement already satisfied: PyPDF2 in c:\\users\\nelso\\anaconda3\\lib\\site-packages (3.0.1)\n",
      "Requirement already satisfied: typing_extensions>=3.10.0.0 in c:\\users\\nelso\\anaconda3\\lib\\site-packages (from PyPDF2) (4.1.1)\n"
     ]
    }
   ],
   "source": []
  },
  {
   "cell_type": "code",
   "execution_count": null,
   "id": "6d75dc33",
   "metadata": {},
   "outputs": [],
   "source": []
  }
 ],
 "metadata": {
  "kernelspec": {
   "display_name": "Python 3 (ipykernel)",
   "language": "python",
   "name": "python3"
  },
  "language_info": {
   "codemirror_mode": {
    "name": "ipython",
    "version": 3
   },
   "file_extension": ".py",
   "mimetype": "text/x-python",
   "name": "python",
   "nbconvert_exporter": "python",
   "pygments_lexer": "ipython3",
   "version": "3.9.12"
  }
 },
 "nbformat": 4,
 "nbformat_minor": 5
}
